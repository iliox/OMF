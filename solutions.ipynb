{
 "cells": [
  {
   "cell_type": "markdown",
   "metadata": {},
   "source": [
    "## Question 1"
   ]
  },
  {
   "cell_type": "code",
   "execution_count": 112,
   "metadata": {},
   "outputs": [
    {
     "data": {
      "text/plain": [
       "coalindia     0.000960\n",
       "ibulhsgfin    0.001864\n",
       "wipro         0.001000\n",
       "ltfh          0.000314\n",
       "tcs           0.000481\n",
       "sunpharma     0.000656\n",
       "biocon        0.001285\n",
       "pvr          -0.000159\n",
       "axisbank      0.000288\n",
       "hdfcbank      0.000251\n",
       "tatamotors    0.001078\n",
       "cipla         0.000056\n",
       "itc           0.000621\n",
       "spicejet     -0.000052\n",
       "reliance     -0.000305\n",
       "infy          0.000530\n",
       "bhel          0.001841\n",
       "dabur        -0.000357\n",
       "sbi           0.000342\n",
       "bajfinance    0.005874\n",
       "dtype: float64"
      ]
     },
     "execution_count": 112,
     "metadata": {},
     "output_type": "execute_result"
    }
   ],
   "source": [
    "import pandas as pd\n",
    "import numpy as np\n",
    "from pypfopt import EfficientFrontier\n",
    "from pypfopt import risk_models\n",
    "from pypfopt import expected_returns\n",
    "\n",
    "# Read in price data\n",
    "df = pd.read_csv(\"equity/data.csv\", index_col=\"date\")\n",
    "# df=df.iloc[::-1]\n",
    "# df\n",
    "df.pct_change().dropna(how=\"all\").mean()\n"
   ]
  },
  {
   "cell_type": "code",
   "execution_count": 113,
   "metadata": {},
   "outputs": [
    {
     "data": {
      "text/plain": [
       "coalindia     0.000960\n",
       "ibulhsgfin    0.001864\n",
       "wipro         0.001000\n",
       "ltfh          0.000314\n",
       "tcs           0.000481\n",
       "sunpharma     0.000656\n",
       "biocon        0.001285\n",
       "pvr          -0.000159\n",
       "axisbank      0.000288\n",
       "hdfcbank      0.000251\n",
       "tatamotors    0.001078\n",
       "cipla         0.000056\n",
       "itc           0.000621\n",
       "spicejet     -0.000052\n",
       "reliance     -0.000305\n",
       "infy          0.000530\n",
       "bhel          0.001841\n",
       "dabur        -0.000357\n",
       "sbi           0.000342\n",
       "bajfinance    0.005874\n",
       "dtype: float64"
      ]
     },
     "execution_count": 113,
     "metadata": {},
     "output_type": "execute_result"
    }
   ],
   "source": [
    "mu = mean_historical_return(df,compounding=False,frequency=1)\n",
    "mu"
   ]
  },
  {
   "cell_type": "code",
   "execution_count": 39,
   "metadata": {},
   "outputs": [
    {
     "name": "stdout",
     "output_type": "stream",
     "text": [
      "[[4.3  1.85 3.95]\n",
      " [1.85 4.7  1.9 ]\n",
      " [3.95 1.9  4.3 ]]\n",
      "[0.30985915 0.44366197 0.24647887]\n"
     ]
    }
   ],
   "source": [
    "# cov matrix\n",
    "m = np.array([\n",
    "    [10,15,13,15,14],\n",
    "    [15,20,18,15,16],\n",
    "    [10,15,11,14,13],\n",
    "])\n",
    "m = np.cov(m)\n",
    "print(m)\n",
    "\n",
    "# Model 1\n",
    "e = np.array([1,1,1])\n",
    "w = (np.dot(np.linalg.inv(m),np.transpose(e)))/np.dot(np.dot(np.linalg.inv(m),e),e)\n",
    "\n",
    "print(w)"
   ]
  },
  {
   "cell_type": "code",
   "execution_count": 118,
   "metadata": {},
   "outputs": [
    {
     "name": "stdout",
     "output_type": "stream",
     "text": [
      "OrderedDict([('coalindia', 0.29219), ('ibulhsgfin', 0.08967), ('wipro', 0.11577), ('ltfh', 0.0), ('tcs', 0.0183), ('sunpharma', 0.07076), ('biocon', 0.03293), ('pvr', 0.0), ('axisbank', 0.0), ('hdfcbank', 0.0), ('tatamotors', 0.0), ('cipla', 0.0), ('itc', 0.09017), ('spicejet', 0.0), ('reliance', 0.0), ('infy', 0.00507), ('bhel', 0.26916), ('dabur', 0.0), ('sbi', 0.0), ('bajfinance', 0.01598)])\n",
      "coalindia 0.29219\n",
      "ibulhsgfin 0.08967\n",
      "wipro 0.11577\n",
      "ltfh 0.0\n",
      "tcs 0.0183\n",
      "sunpharma 0.07076\n",
      "biocon 0.03293\n",
      "pvr 0.0\n",
      "axisbank 0.0\n",
      "hdfcbank 0.0\n",
      "tatamotors 0.0\n",
      "cipla 0.0\n",
      "itc 0.09017\n",
      "spicejet 0.0\n",
      "reliance 0.0\n",
      "infy 0.00507\n",
      "bhel 0.26916\n",
      "dabur 0.0\n",
      "sbi 0.0\n",
      "bajfinance 0.01598\n",
      "Expected annual return: 33.0%\n",
      "Annual volatility: 25.4%\n",
      "Sharpe Ratio: 1.22\n"
     ]
    },
    {
     "data": {
      "text/plain": [
       "(0.32985423593043284, 0.2539053427058217, 1.2203533514827778)"
      ]
     },
     "execution_count": 118,
     "metadata": {},
     "output_type": "execute_result"
    }
   ],
   "source": [
    "# Calculate expected returns and sample covariance\n",
    "mu = expected_returns.mean_historical_return(df,compounding=False)\n",
    "S = risk_models.sample_cov(df)\n",
    "\n",
    "# Optimise for min valatile\n",
    "ef = EfficientFrontier(mu, S)\n",
    "raw_weights = ef.max_sharpe()\n",
    "cleaned_weights = ef.clean_weights()\n",
    "\n",
    "print(cleaned_weights)\n",
    "for key in cleaned_weights.keys():\n",
    "    print(key, cleaned_weights[key])\n",
    "ef.portfolio_performance(verbose=True)"
   ]
  },
  {
   "cell_type": "code",
   "execution_count": 120,
   "metadata": {},
   "outputs": [
    {
     "name": "stdout",
     "output_type": "stream",
     "text": [
      "coalindia 0.18732\n",
      "ibulhsgfin 0.08955\n",
      "wipro 0.05234\n",
      "ltfh -0.0911\n",
      "tcs 0.00751\n",
      "sunpharma 0.14379\n",
      "biocon 0.02052\n",
      "pvr -0.09853\n",
      "axisbank -0.01696\n",
      "hdfcbank -0.00393\n",
      "tatamotors 0.09643\n",
      "cipla -0.16221\n",
      "itc 0.10883\n",
      "spicejet -0.06746\n",
      "reliance -0.06487\n",
      "infy 0.0305\n",
      "bhel 0.18057\n",
      "dabur -0.35286\n",
      "sbi -0.06776\n",
      "bajfinance 0.00833\n",
      "Expected annual return: 30.0%\n",
      "Annual volatility: 17.0%\n",
      "Sharpe Ratio: 1.64\n"
     ]
    },
    {
     "data": {
      "text/plain": [
       "(0.30000000000000016, 0.17044781643665352, 1.642731516622634)"
      ]
     },
     "execution_count": 120,
     "metadata": {},
     "output_type": "execute_result"
    }
   ],
   "source": [
    "# Calculate expected returns and sample covariance\n",
    "mu = expected_returns.mean_historical_return(df,compounding=False)\n",
    "S = risk_models.sample_cov(df)\n",
    "# Optimise for fined return\n",
    "ef = EfficientFrontier(mu, S)\n",
    "raw_weights = ef.efficient_return(target_return=0.3, market_neutral=True)\n",
    "cleaned_weights = ef.clean_weights()\n",
    "# ef.save_weights_to_file(\"weights.csv\")  # saves to file\n",
    "for key in cleaned_weights.keys():\n",
    "    print(key, cleaned_weights[key])\n",
    "ef.portfolio_performance(verbose=True)"
   ]
  },
  {
   "cell_type": "code",
   "execution_count": 3,
   "metadata": {},
   "outputs": [
    {
     "data": {
      "text/plain": [
       "'1.2.6'"
      ]
     },
     "execution_count": 3,
     "metadata": {},
     "output_type": "execute_result"
    }
   ],
   "source": [
    "# https://github.com/robertmartin8/PyPortfolioOpt/tree/master/cookbook\n",
    "\n",
    "import pandas as pd\n",
    "import numpy as np\n",
    "import matplotlib.pyplot as plt\n",
    "import pypfopt\n",
    "from pypfopt import risk_models, expected_returns, plotting\n",
    "pypfopt.__version__"
   ]
  },
  {
   "cell_type": "code",
   "execution_count": 105,
   "metadata": {},
   "outputs": [
    {
     "data": {
      "image/png": "[encoded data removed]",
      "text/plain": [
       "<Figure size 432x288 with 2 Axes>"
      ]
     },
     "metadata": {
      "needs_background": "light"
     },
     "output_type": "display_data"
    },
    {
     "data": {
      "image/png": "[encoded data removed]",
      "text/plain": [
       "<Figure size 432x288 with 2 Axes>"
      ]
     },
     "metadata": {
      "needs_background": "light"
     },
     "output_type": "display_data"
    }
   ],
   "source": [
    "df = pd.read_csv(\"equity/data.csv\", parse_dates=True, index_col=\"date\")\n",
    "past_df, future_df = df.iloc[:-600], df.iloc[-600:]\n",
    "future_cov = risk_models.sample_cov(future_df)\n",
    "\n",
    "sample_cov = risk_models.sample_cov(past_df)\n",
    "plotting.plot_covariance(sample_cov, plot_correlation=True)\n",
    "plotting.plot_covariance(future_cov, plot_correlation=True)\n",
    "plt.show()"
   ]
  },
  {
   "cell_type": "code",
   "execution_count": null,
   "metadata": {},
   "outputs": [],
   "source": []
  },
  {
   "cell_type": "code",
   "execution_count": 2,
   "metadata": {},
   "outputs": [],
   "source": [
    "import pandas as pd\n",
    "import numpy as np\n",
    "from pypfopt import EfficientFrontier\n",
    "from pypfopt import risk_models\n",
    "from pypfopt import expected_returns\n",
    "\n",
    "# Read in price data\n",
    "df = pd.read_csv(\"data.csv\", index_col=\"date\")\n",
    "# df=df.iloc[::-1]\n",
    "# df\n",
    "mu = df.pct_change().dropna(how=\"all\").mean()"
   ]
  },
  {
   "cell_type": "code",
   "execution_count": 9,
   "metadata": {},
   "outputs": [
    {
     "data": {
      "text/plain": [
       "array([0.11346154, 0.03333333, 0.10865801])"
      ]
     },
     "execution_count": 9,
     "metadata": {},
     "output_type": "execute_result"
    }
   ],
   "source": [
    "mu = np.array(mu)\n",
    "mu"
   ]
  },
  {
   "cell_type": "code",
   "execution_count": 4,
   "metadata": {},
   "outputs": [],
   "source": [
    "muf = 0.05"
   ]
  },
  {
   "cell_type": "code",
   "execution_count": 12,
   "metadata": {},
   "outputs": [],
   "source": [
    "m = df.pct_change().apply(lambda x: np.log(1+x)).cov()"
   ]
  },
  {
   "cell_type": "code",
   "execution_count": 13,
   "metadata": {},
   "outputs": [],
   "source": [
    "wd = np.dot(np.linalg.inv(m),(mu - muf*np.array([1,1,1]))) / np.dot(np.dot(np.array([1,1,1]),np.linalg.inv(m)), muf*np.array([1,1,1]))"
   ]
  },
  {
   "cell_type": "code",
   "execution_count": 14,
   "metadata": {},
   "outputs": [
    {
     "data": {
      "text/plain": [
       "array([ 7.30134418, -2.58995328, -4.14254913])"
      ]
     },
     "execution_count": 14,
     "metadata": {},
     "output_type": "execute_result"
    }
   ],
   "source": [
    "wd"
   ]
  },
  {
   "cell_type": "code",
   "execution_count": null,
   "metadata": {},
   "outputs": [],
   "source": []
  }
 ],
 "metadata": {
  "kernelspec": {
   "display_name": "Python 3",
   "language": "python",
   "name": "python3"
  },
  "language_info": {
   "codemirror_mode": {
    "name": "ipython",
    "version": 3
   },
   "file_extension": ".py",
   "mimetype": "text/x-python",
   "name": "python",
   "nbconvert_exporter": "python",
   "pygments_lexer": "ipython3",
   "version": "3.8.3"
  }
 },
 "nbformat": 4,
 "nbformat_minor": 4
}
