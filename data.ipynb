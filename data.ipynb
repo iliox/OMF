{
 "cells": [
  {
   "cell_type": "code",
   "execution_count": 2,
   "metadata": {},
   "outputs": [],
   "source": [
    "import pandas as pd\n",
    "import glob"
   ]
  },
  {
   "cell_type": "code",
   "execution_count": 3,
   "metadata": {},
   "outputs": [],
   "source": [
    "file_paths = glob.glob(\"equity/*.csv\")\n",
    "shares = [(i.split('/')[-1]).split('.')[0] for i in file_paths]"
   ]
  },
  {
   "cell_type": "code",
   "execution_count": 4,
   "metadata": {},
   "outputs": [],
   "source": [
    "data = []\n",
    "df = pd.read_csv(file_paths[0])\n",
    "data.append(list(df[\"Date\"]))\n",
    "for path in file_paths:\n",
    "    df = pd.read_csv(path)\n",
    "    data.append(list(df['Close Price']))"
   ]
  },
  {
   "cell_type": "code",
   "execution_count": 5,
   "metadata": {},
   "outputs": [
    {
     "data": {
      "text/plain": [
       "['coalindia',\n",
       " 'ibulhsgfin',\n",
       " 'wipro',\n",
       " 'ltfh',\n",
       " 'tcs',\n",
       " 'sunpharma',\n",
       " 'biocon',\n",
       " 'pvr',\n",
       " 'axisbank',\n",
       " 'hdfcbank',\n",
       " 'tatamotors',\n",
       " 'cipla',\n",
       " 'itc',\n",
       " 'spicejet',\n",
       " 'reliance',\n",
       " 'infy',\n",
       " 'bhel',\n",
       " 'dabur',\n",
       " 'sbi',\n",
       " 'bajfinance']"
      ]
     },
     "execution_count": 5,
     "metadata": {},
     "output_type": "execute_result"
    }
   ],
   "source": [
    "shares"
   ]
  },
  {
   "cell_type": "code",
   "execution_count": 15,
   "metadata": {},
   "outputs": [],
   "source": [
    "df = pd.DataFrame(data)\n",
    "df = df.transpose()\n",
    "df.columns = ['date'] + shares"
   ]
  },
  {
   "cell_type": "code",
   "execution_count": 17,
   "metadata": {},
   "outputs": [],
   "source": [
    "df.to_csv('./equity/data.csv', index=False)"
   ]
  },
  {
   "cell_type": "code",
   "execution_count": 19,
   "metadata": {},
   "outputs": [
    {
     "data": {
      "text/plain": [
       "1235"
      ]
     },
     "execution_count": 19,
     "metadata": {},
     "output_type": "execute_result"
    }
   ],
   "source": [
    "len(data[0])"
   ]
  },
  {
   "cell_type": "code",
   "execution_count": null,
   "metadata": {},
   "outputs": [],
   "source": []
  }
 ],
 "metadata": {
  "kernelspec": {
   "display_name": "Python 3",
   "language": "python",
   "name": "python3"
  },
  "language_info": {
   "codemirror_mode": {
    "name": "ipython",
    "version": 3
   },
   "file_extension": ".py",
   "mimetype": "text/x-python",
   "name": "python",
   "nbconvert_exporter": "python",
   "pygments_lexer": "ipython3",
   "version": "3.8.3"
  }
 },
 "nbformat": 4,
 "nbformat_minor": 4
}
